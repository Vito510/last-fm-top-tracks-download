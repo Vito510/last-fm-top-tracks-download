{
 "cells": [
  {
   "cell_type": "code",
   "execution_count": 2,
   "metadata": {},
   "outputs": [],
   "source": [
    "import json\n",
    "import tqdm\n",
    "from yt_dlp import YoutubeDL\n",
    "from ytmusicapi import YTMusic\n",
    "\n",
    "ytmusic = YTMusic()\n",
    "data = json.loads(open('./recenttracks-Vito_510-1755212327.json', 'r', encoding='utf-8').read())\n",
    "\n",
    "\n",
    "def download_music_video(url: str, output_template: str = \"%(title)s.%(ext)s\"):\n",
    "    ydl_opts = {'extract_flat': 'discard_in_playlist',\n",
    " 'format': 'bestaudio',\n",
    " 'fragment_retries': 10,\n",
    " 'ignoreerrors': 'only_download',\n",
    " 'outtmpl': {'default':output_template,'pl_thumbnail': ''},\n",
    " 'postprocessor_args': {'ffmpeg': ['-c:v',\n",
    "                                   'mjpeg',\n",
    "                                   '-vf',\n",
    "                                   \"crop='if(gt(ih,iw),iw,ih)':'if(gt(iw,ih),ih,iw)'\"]},\n",
    " 'postprocessors': [{'format': 'jpg',\n",
    "                     'key': 'FFmpegThumbnailsConvertor',\n",
    "                     'when': 'before_dl'},\n",
    "                    {'key': 'FFmpegExtractAudio',\n",
    "                     'nopostoverwrites': False,\n",
    "                     'preferredcodec': 'best',\n",
    "                     'preferredquality': '5'},\n",
    "                    {'add_chapters': True,\n",
    "                     'add_infojson': 'if_exists',\n",
    "                     'add_metadata': True,\n",
    "                     'key': 'FFmpegMetadata'},\n",
    "                    {'already_have_thumbnail': False, 'key': 'EmbedThumbnail'},\n",
    "                    {'key': 'FFmpegConcat',\n",
    "                     'only_multi_video': True,\n",
    "                     'when': 'playlist'}],\n",
    " 'retries': 10,\n",
    " 'warn_when_outdated': True,\n",
    " 'writethumbnail': True}\n",
    "\n",
    "    with YoutubeDL(ydl_opts) as ydl:\n",
    "        ydl.download([url])"
   ]
  },
  {
   "cell_type": "code",
   "execution_count": 3,
   "metadata": {},
   "outputs": [],
   "source": [
    "tracks = []\n",
    "\n",
    "for page in data:\n",
    "    tracks.extend(page[\"track\"])"
   ]
  },
  {
   "cell_type": "code",
   "execution_count": 4,
   "metadata": {},
   "outputs": [],
   "source": [
    "sorted_tracks = {}\n",
    "for track in tracks:\n",
    "    name = track[\"name\"]\n",
    "    artist = track[\"artist\"][\"#text\"]\n",
    "   \n",
    "    key = name+artist\n",
    "   \n",
    "    if key not in sorted_tracks:\n",
    "        sorted_tracks[key] = {\n",
    "            \"name\": name,\n",
    "            \"artist\": artist,\n",
    "            \"count\": 0\n",
    "        }\n",
    "    \n",
    "    sorted_tracks[key][\"count\"] += 1"
   ]
  },
  {
   "cell_type": "code",
   "execution_count": 6,
   "metadata": {},
   "outputs": [],
   "source": [
    "sorted_keys = sorted(sorted_tracks, key=lambda x: sorted_tracks[x][\"count\"], reverse=True)"
   ]
  },
  {
   "cell_type": "code",
   "execution_count": 9,
   "metadata": {},
   "outputs": [
    {
     "name": "stderr",
     "output_type": "stream",
     "text": [
      "  0%|          | 0/5 [00:00<?, ?it/s]"
     ]
    },
    {
     "name": "stdout",
     "output_type": "stream",
     "text": [
      "[youtube] Extracting URL: https://music.youtube.com/watch?v=c30vdoqx4gc\n",
      "[youtube] c30vdoqx4gc: Downloading webpage\n",
      "[youtube] c30vdoqx4gc: Downloading tv client config\n",
      "[youtube] c30vdoqx4gc: Downloading tv player API JSON\n",
      "[youtube] c30vdoqx4gc: Downloading ios player API JSON\n",
      "[youtube] c30vdoqx4gc: Downloading m3u8 information\n",
      "[info] c30vdoqx4gc: Downloading 1 format(s): 251\n",
      "[info] Downloading video thumbnail 44 ...\n",
      "[info] Writing video thumbnail 44 to: ./downloads/554.webp\n",
      "[ThumbnailsConvertor] Converting thumbnail \"./downloads/554.webp\" to jpg\n",
      "Deleting original file ./downloads/554.webp (pass -k to keep)\n",
      "[download] Sleeping 5.00 seconds as required by the site...\n",
      "[download] Destination: ./downloads/554.webm\n",
      "[download] 100% of    3.80MiB in 00:00:18 at 210.98KiB/s \n",
      "[ExtractAudio] Destination: ./downloads/554.opus\n",
      "Deleting original file ./downloads/554.webm (pass -k to keep)\n",
      "[Metadata] Adding metadata to \"./downloads/554.opus\"\n",
      "[EmbedThumbnail] mutagen: Adding thumbnail to \"./downloads/554.opus\"\n"
     ]
    },
    {
     "name": "stderr",
     "output_type": "stream",
     "text": [
      " 20%|██        | 1/5 [00:28<01:53, 28.47s/it]"
     ]
    },
    {
     "name": "stdout",
     "output_type": "stream",
     "text": [
      "[youtube] Extracting URL: https://music.youtube.com/watch?v=mcB_TNU_apI\n",
      "[youtube] mcB_TNU_apI: Downloading webpage\n",
      "[youtube] mcB_TNU_apI: Downloading tv client config\n",
      "[youtube] mcB_TNU_apI: Downloading tv player API JSON\n",
      "[youtube] mcB_TNU_apI: Downloading ios player API JSON\n",
      "[youtube] mcB_TNU_apI: Downloading m3u8 information\n",
      "[info] mcB_TNU_apI: Downloading 1 format(s): 251\n",
      "[info] Downloading video thumbnail 44 ...\n",
      "[info] Writing video thumbnail 44 to: ./downloads/555.webp\n",
      "[ThumbnailsConvertor] Converting thumbnail \"./downloads/555.webp\" to jpg\n",
      "Deleting original file ./downloads/555.webp (pass -k to keep)\n",
      "[download] Sleeping 6.00 seconds as required by the site...\n",
      "[download] Destination: ./downloads/555.webm\n",
      "[download] 100% of    2.26MiB in 00:00:00 at 31.70MiB/s    \n",
      "[ExtractAudio] Destination: ./downloads/555.opus\n",
      "Deleting original file ./downloads/555.webm (pass -k to keep)\n",
      "[Metadata] Adding metadata to \"./downloads/555.opus\"\n",
      "[EmbedThumbnail] mutagen: Adding thumbnail to \"./downloads/555.opus\"\n"
     ]
    },
    {
     "name": "stderr",
     "output_type": "stream",
     "text": [
      " 40%|████      | 2/5 [00:39<00:54, 18.13s/it]"
     ]
    },
    {
     "name": "stdout",
     "output_type": "stream",
     "text": [
      "[youtube] Extracting URL: https://music.youtube.com/watch?v=JqO33QER3LI\n",
      "[youtube] JqO33QER3LI: Downloading webpage\n",
      "[youtube] JqO33QER3LI: Downloading tv client config\n",
      "[youtube] JqO33QER3LI: Downloading tv player API JSON\n",
      "[youtube] JqO33QER3LI: Downloading ios player API JSON\n",
      "[youtube] JqO33QER3LI: Downloading m3u8 information\n",
      "[info] JqO33QER3LI: Downloading 1 format(s): 251\n",
      "[info] Downloading video thumbnail 44 ...\n",
      "[info] Writing video thumbnail 44 to: ./downloads/556.webp\n",
      "[ThumbnailsConvertor] Converting thumbnail \"./downloads/556.webp\" to jpg\n",
      "Deleting original file ./downloads/556.webp (pass -k to keep)\n",
      "[download] Sleeping 5.00 seconds as required by the site...\n",
      "[download] Destination: ./downloads/556.webm\n",
      "[download] 100% of    3.48MiB in 00:00:00 at 24.69MiB/s    \n",
      "[ExtractAudio] Destination: ./downloads/556.opus\n",
      "Deleting original file ./downloads/556.webm (pass -k to keep)\n",
      "[Metadata] Adding metadata to \"./downloads/556.opus\"\n",
      "[EmbedThumbnail] mutagen: Adding thumbnail to \"./downloads/556.opus\"\n"
     ]
    },
    {
     "name": "stderr",
     "output_type": "stream",
     "text": [
      " 60%|██████    | 3/5 [00:49<00:28, 14.35s/it]"
     ]
    },
    {
     "name": "stdout",
     "output_type": "stream",
     "text": [
      "[youtube] Extracting URL: https://music.youtube.com/watch?v=5mHzaIehRTE\n",
      "[youtube] 5mHzaIehRTE: Downloading webpage\n",
      "[youtube] 5mHzaIehRTE: Downloading tv client config\n",
      "[youtube] 5mHzaIehRTE: Downloading tv player API JSON\n",
      "[youtube] 5mHzaIehRTE: Downloading ios player API JSON\n",
      "[youtube] 5mHzaIehRTE: Downloading m3u8 information\n",
      "[info] 5mHzaIehRTE: Downloading 1 format(s): 251\n",
      "[info] Downloading video thumbnail 44 ...\n",
      "[info] Writing video thumbnail 44 to: ./downloads/557.webp\n",
      "[ThumbnailsConvertor] Converting thumbnail \"./downloads/557.webp\" to jpg\n",
      "Deleting original file ./downloads/557.webp (pass -k to keep)\n",
      "[download] Sleeping 6.00 seconds as required by the site...\n",
      "[download] Destination: ./downloads/557.webm\n",
      "[download] 100% of    4.38MiB in 00:00:00 at 33.60MiB/s    \n",
      "[ExtractAudio] Destination: ./downloads/557.opus\n",
      "Deleting original file ./downloads/557.webm (pass -k to keep)\n",
      "[Metadata] Adding metadata to \"./downloads/557.opus\"\n",
      "[EmbedThumbnail] mutagen: Adding thumbnail to \"./downloads/557.opus\"\n"
     ]
    },
    {
     "name": "stderr",
     "output_type": "stream",
     "text": [
      " 80%|████████  | 4/5 [01:00<00:12, 12.97s/it]"
     ]
    },
    {
     "name": "stdout",
     "output_type": "stream",
     "text": [
      "[youtube] Extracting URL: https://music.youtube.com/watch?v=dFR6VoUdoTo\n",
      "[youtube] dFR6VoUdoTo: Downloading webpage\n",
      "[youtube] dFR6VoUdoTo: Downloading tv client config\n",
      "[youtube] dFR6VoUdoTo: Downloading tv player API JSON\n",
      "[youtube] dFR6VoUdoTo: Downloading ios player API JSON\n",
      "[youtube] dFR6VoUdoTo: Downloading m3u8 information\n",
      "[info] dFR6VoUdoTo: Downloading 1 format(s): 251\n",
      "[info] Downloading video thumbnail 44 ...\n",
      "[info] Writing video thumbnail 44 to: ./downloads/558.webp\n",
      "[ThumbnailsConvertor] Converting thumbnail \"./downloads/558.webp\" to jpg\n",
      "Deleting original file ./downloads/558.webp (pass -k to keep)\n",
      "[download] Sleeping 6.00 seconds as required by the site...\n",
      "[download] Destination: ./downloads/558.webm\n",
      "[download] 100% of    4.38MiB in 00:00:01 at 3.73MiB/s   \n",
      "[ExtractAudio] Destination: ./downloads/558.opus\n",
      "Deleting original file ./downloads/558.webm (pass -k to keep)\n",
      "[Metadata] Adding metadata to \"./downloads/558.opus\"\n",
      "[EmbedThumbnail] mutagen: Adding thumbnail to \"./downloads/558.opus\"\n"
     ]
    },
    {
     "name": "stderr",
     "output_type": "stream",
     "text": [
      "100%|██████████| 5/5 [01:11<00:00, 14.36s/it]\n"
     ]
    }
   ],
   "source": [
    "START_INDEX = i = 554\n",
    "END_INDEX = 559\n",
    "to_download = sorted_keys[START_INDEX:END_INDEX]\n",
    "for key in tqdm.tqdm(to_download):\n",
    "    track = sorted_tracks[key]\n",
    "    resp = ytmusic.search(f'{track[\"artist\"]} - {track[\"name\"]}', filter=\"songs\", limit=5)\n",
    "    try:\n",
    "        url = \"https://music.youtube.com/watch?v=\"+resp[0][\"videoId\"]\n",
    "        download_music_video(url, output_template=f\"./downloads/{i}.%(ext)s\")\n",
    "    except:\n",
    "        print(\"SKIP\",i)\n",
    "        pass\n",
    "\n",
    "    \n",
    "    i += 1"
   ]
  }
 ],
 "metadata": {
  "kernelspec": {
   "display_name": "base",
   "language": "python",
   "name": "python3"
  },
  "language_info": {
   "codemirror_mode": {
    "name": "ipython",
    "version": 3
   },
   "file_extension": ".py",
   "mimetype": "text/x-python",
   "name": "python",
   "nbconvert_exporter": "python",
   "pygments_lexer": "ipython3",
   "version": "3.12.4"
  }
 },
 "nbformat": 4,
 "nbformat_minor": 2
}
